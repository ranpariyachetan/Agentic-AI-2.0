{
 "cells": [
  {
   "cell_type": "markdown",
   "id": "11c4e07d",
   "metadata": {},
   "source": [
    "# React agent with multiple tool"
   ]
  },
  {
   "cell_type": "code",
   "execution_count": 111,
   "id": "525f5777",
   "metadata": {},
   "outputs": [],
   "source": [
    "import operator\n",
    "from dotenv import load_dotenv\n",
    "from langchain_groq import ChatGroq\n",
    "from pydantic import BaseModel, Field\n",
    "from typing import  TypedDict, Annotated,Sequence\n",
    "import operator\n",
    "from langchain_core.messages import BaseMessage, HumanMessage\n",
    "from langchain_core.prompts import ChatPromptTemplate, PromptTemplate\n",
    "from langchain_core.output_parsers import StrOutputParser\n",
    "from langchain_core.runnables import RunnablePassthrough\n",
    "from langgraph.graph import StateGraph, MessagesState, START, END\n",
    "from langchain_core.tools import tool\n",
    "from langgraph.prebuilt import ToolNode\n"
   ]
  },
  {
   "cell_type": "code",
   "execution_count": 12,
   "id": "d99a71d3",
   "metadata": {},
   "outputs": [
    {
     "data": {
      "text/plain": [
       "True"
      ]
     },
     "execution_count": 12,
     "metadata": {},
     "output_type": "execute_result"
    }
   ],
   "source": [
    "load_dotenv()"
   ]
  },
  {
   "cell_type": "code",
   "execution_count": 13,
   "id": "d0176546",
   "metadata": {},
   "outputs": [],
   "source": [
    "model=\"deepseek-r1-distill-llama-70b\""
   ]
  },
  {
   "cell_type": "code",
   "execution_count": 14,
   "id": "e23a9f0b",
   "metadata": {},
   "outputs": [],
   "source": [
    "llm = ChatGroq(model_name=model)"
   ]
  },
  {
   "cell_type": "code",
   "execution_count": 15,
   "id": "ad093954",
   "metadata": {},
   "outputs": [
    {
     "data": {
      "text/plain": [
       "AIMessage(content='<think>\\n\\n</think>\\n\\nThe capital of France is Paris.', additional_kwargs={}, response_metadata={'token_usage': {'completion_tokens': 12, 'prompt_tokens': 10, 'total_tokens': 22, 'completion_time': 0.04855961, 'prompt_time': 0.000204237, 'queue_time': 0.207688601, 'total_time': 0.048763847}, 'model_name': 'deepseek-r1-distill-llama-70b', 'system_fingerprint': 'fp_1bbe7845ec', 'finish_reason': 'stop', 'logprobs': None}, id='run--d6dd72fa-27e2-434e-9b73-764d42f6a6ea-0', usage_metadata={'input_tokens': 10, 'output_tokens': 12, 'total_tokens': 22})"
      ]
     },
     "execution_count": 15,
     "metadata": {},
     "output_type": "execute_result"
    }
   ],
   "source": [
    "llm.invoke(\"What is the capital of France?\")"
   ]
  },
  {
   "cell_type": "code",
   "execution_count": 85,
   "id": "057e6329",
   "metadata": {},
   "outputs": [],
   "source": [
    "def call_model(state: MessagesState):\n",
    "    messages = state[\"messages\"]\n",
    "    response = llm.invoke(messages)\n",
    "    return {\"messages\": [response]} # state.update(messages=messages + [response])"
   ]
  },
  {
   "cell_type": "code",
   "execution_count": 86,
   "id": "99b8cfd0",
   "metadata": {},
   "outputs": [],
   "source": [
    "state = {\"messages\": [\"Hi!!! Hello, how are you?\"]}"
   ]
  },
  {
   "cell_type": "code",
   "execution_count": 87,
   "id": "8cf41578",
   "metadata": {},
   "outputs": [
    {
     "data": {
      "text/plain": [
       "{'messages': [AIMessage(content=\"<think>\\n\\n</think>\\n\\nHi! Hello! I'm just a virtual assistant, so I don't have feelings, but I'm here and ready to help you! How are you doing? 😊\", additional_kwargs={}, response_metadata={'token_usage': {'completion_tokens': 40, 'prompt_tokens': 11, 'total_tokens': 51, 'completion_time': 0.191585047, 'prompt_time': 0.000301095, 'queue_time': 0.202527335, 'total_time': 0.191886142}, 'model_name': 'deepseek-r1-distill-llama-70b', 'system_fingerprint': 'fp_1bbe7845ec', 'finish_reason': 'stop', 'logprobs': None}, id='run--b98be121-78ae-473c-ae83-3b13a840407a-0', usage_metadata={'input_tokens': 11, 'output_tokens': 40, 'total_tokens': 51})]}"
      ]
     },
     "execution_count": 87,
     "metadata": {},
     "output_type": "execute_result"
    }
   ],
   "source": [
    "call_model(state)"
   ]
  },
  {
   "cell_type": "code",
   "execution_count": 54,
   "id": "64d2cc0d",
   "metadata": {},
   "outputs": [],
   "source": [
    "graph = StateGraph(MessagesState)"
   ]
  },
  {
   "cell_type": "code",
   "execution_count": 55,
   "id": "d3eed9c9",
   "metadata": {},
   "outputs": [
    {
     "data": {
      "text/plain": [
       "<langgraph.graph.state.StateGraph at 0x12d263390>"
      ]
     },
     "execution_count": 55,
     "metadata": {},
     "output_type": "execute_result"
    }
   ],
   "source": [
    "graph.add_node(\"call_model\", call_model)"
   ]
  },
  {
   "cell_type": "code",
   "execution_count": 56,
   "id": "b6f6e6fb",
   "metadata": {},
   "outputs": [
    {
     "data": {
      "text/plain": [
       "<langgraph.graph.state.StateGraph at 0x12d263390>"
      ]
     },
     "execution_count": 56,
     "metadata": {},
     "output_type": "execute_result"
    }
   ],
   "source": [
    "graph.add_edge(START, \"call_model\")\n",
    "graph.add_edge(\"call_model\", END)"
   ]
  },
  {
   "cell_type": "code",
   "execution_count": 57,
   "id": "46c96d31",
   "metadata": {},
   "outputs": [],
   "source": [
    "workflow = graph.compile()"
   ]
  },
  {
   "cell_type": "code",
   "execution_count": 58,
   "id": "2d093e39",
   "metadata": {},
   "outputs": [
    {
     "data": {
      "image/png": "[encoded data removed]",
      "text/plain": [
       "<langgraph.graph.state.CompiledStateGraph object at 0x12e452fd0>"
      ]
     },
     "metadata": {},
     "output_type": "display_data"
    }
   ],
   "source": [
    "display(workflow)"
   ]
  },
  {
   "cell_type": "code",
   "execution_count": 61,
   "id": "7d83f8dd",
   "metadata": {},
   "outputs": [],
   "source": [
    "# input_state = {\"messages\": [HumanMessage(content=\"What is your name?\")]} # [\"Hi!!! Hello, how are you?\"]}# MessagesState(messages=[\"Hi!!! Hello, how are you?\"])\n",
    "\n",
    "input_state = {\"messages\": [\"Hi!!! Hello, how are you?\"]} # MessagesState(messages=[\"Hi!!! Hello, how are you?\"])\n",
    "\n",
    "output = workflow.invoke(input_state)"
   ]
  },
  {
   "cell_type": "code",
   "execution_count": 64,
   "id": "93b06c32",
   "metadata": {},
   "outputs": [
    {
     "data": {
      "text/plain": [
       "\"<think>\\n\\n</think>\\n\\nHello! I'm just a virtual assistant, so I don't have feelings, but I'm here and ready to help you! How are you doing? 😊\""
      ]
     },
     "execution_count": 64,
     "metadata": {},
     "output_type": "execute_result"
    }
   ],
   "source": [
    "output[\"messages\"][-1].content"
   ]
  },
  {
   "cell_type": "code",
   "execution_count": 90,
   "id": "e9aa6c5d",
   "metadata": {},
   "outputs": [],
   "source": [
    "@tool\n",
    "def search(query:str):\n",
    "    \"\"\"\n",
    "    Customer tool to search weather.\n",
    "    \"\"\"\n",
    "    if \"delhi\" in query.lower():\n",
    "        return \"the temperature in Delhi is 45 degrees Celsius and sun is shining.\"\n",
    "    return \"I don't know the weather in that city.\""
   ]
  },
  {
   "cell_type": "code",
   "execution_count": 91,
   "id": "10ebfcc5",
   "metadata": {},
   "outputs": [
    {
     "data": {
      "text/plain": [
       "'the temperature in Delhi is 45 degrees Celsius and sun is shining.'"
      ]
     },
     "execution_count": 91,
     "metadata": {},
     "output_type": "execute_result"
    }
   ],
   "source": [
    "search.invoke(\"What is the weather in Delhi?\")"
   ]
  },
  {
   "cell_type": "code",
   "execution_count": 92,
   "id": "0ab85b8e",
   "metadata": {},
   "outputs": [
    {
     "data": {
      "text/plain": [
       "\"I don't know the weather in that city.\""
      ]
     },
     "execution_count": 92,
     "metadata": {},
     "output_type": "execute_result"
    }
   ],
   "source": [
    "search.invoke(\"What is the weather in Mumbai?\")"
   ]
  },
  {
   "cell_type": "code",
   "execution_count": 93,
   "id": "60bddb9d",
   "metadata": {},
   "outputs": [],
   "source": [
    "tools = [search]\n",
    "\n",
    "llm_with_tools = llm.bind_tools(tools)"
   ]
  },
  {
   "cell_type": "code",
   "execution_count": 94,
   "id": "f12b3438",
   "metadata": {},
   "outputs": [],
   "source": [
    "response = llm_with_tools.invoke(\"What is the weather in Delhi?\")"
   ]
  },
  {
   "cell_type": "code",
   "execution_count": 96,
   "id": "2723ecf6",
   "metadata": {},
   "outputs": [
    {
     "data": {
      "text/plain": [
       "[{'name': 'search',\n",
       "  'args': {'query': 'Delhi weather'},\n",
       "  'id': 'v4er0n5n4',\n",
       "  'type': 'tool_call'}]"
      ]
     },
     "execution_count": 96,
     "metadata": {},
     "output_type": "execute_result"
    }
   ],
   "source": [
    "response.tool_calls"
   ]
  },
  {
   "cell_type": "code",
   "execution_count": 102,
   "id": "c11c6f35",
   "metadata": {},
   "outputs": [],
   "source": [
    "def call_model_with_tools(state: MessagesState) -> MessagesState:\n",
    "    messages = state[\"messages\"]\n",
    "    response = llm_with_tools.invoke(messages)\n",
    "    return {\"messages\":[response]}"
   ]
  },
  {
   "cell_type": "code",
   "execution_count": 106,
   "id": "f1dd7d42",
   "metadata": {},
   "outputs": [],
   "source": [
    "weather_query = {\"messages\": [\"What is the weather in Delhi?\"]}"
   ]
  },
  {
   "cell_type": "code",
   "execution_count": 107,
   "id": "cf91038a",
   "metadata": {},
   "outputs": [],
   "source": [
    "res = call_model_with_tools(weather_query)"
   ]
  },
  {
   "cell_type": "code",
   "execution_count": 108,
   "id": "212f9ce5",
   "metadata": {},
   "outputs": [
    {
     "data": {
      "text/plain": [
       "''"
      ]
     },
     "execution_count": 108,
     "metadata": {},
     "output_type": "execute_result"
    }
   ],
   "source": [
    "res[\"messages\"][-1].content"
   ]
  },
  {
   "cell_type": "code",
   "execution_count": 109,
   "id": "c9cdb2d5",
   "metadata": {},
   "outputs": [
    {
     "data": {
      "text/plain": [
       "[{'name': 'search',\n",
       "  'args': {'query': 'Delhi'},\n",
       "  'id': 'v6gg1n4xs',\n",
       "  'type': 'tool_call'}]"
      ]
     },
     "execution_count": 109,
     "metadata": {},
     "output_type": "execute_result"
    }
   ],
   "source": [
    "res[\"messages\"][-1].tool_calls"
   ]
  },
  {
   "cell_type": "code",
   "execution_count": 110,
   "id": "1bfad433",
   "metadata": {},
   "outputs": [],
   "source": [
    "def router_function(state: MessagesState) -> MessagesState:\n",
    "    last_message = state[\"messages\"][-1]\n",
    "    if last_message.tool_calls:\n",
    "        return \"tools\"\n",
    "    return END\n"
   ]
  },
  {
   "cell_type": "code",
   "execution_count": 114,
   "id": "860f0e92",
   "metadata": {},
   "outputs": [],
   "source": [
    "tool_node = ToolNode(tools)"
   ]
  },
  {
   "cell_type": "code",
   "execution_count": 116,
   "id": "a76f0254",
   "metadata": {},
   "outputs": [
    {
     "data": {
      "text/plain": [
       "tools(tags=None, recurse=True, explode_args=False, func_accepts_config=True, func_accepts={'store': ('__pregel_store', None)}, tools_by_name={'search': StructuredTool(name='search', description='Customer tool to search weather.', args_schema=<class 'langchain_core.utils.pydantic.search'>, func=<function search at 0x12e71fba0>)}, tool_to_state_args={'search': {}}, tool_to_store_arg={'search': None}, handle_tool_errors=True, messages_key='messages')"
      ]
     },
     "execution_count": 116,
     "metadata": {},
     "output_type": "execute_result"
    }
   ],
   "source": [
    "tool_node"
   ]
  },
  {
   "cell_type": "code",
   "execution_count": 127,
   "id": "024b7796",
   "metadata": {},
   "outputs": [
    {
     "data": {
      "text/plain": [
       "<langgraph.graph.state.StateGraph at 0x12e453ed0>"
      ]
     },
     "execution_count": 127,
     "metadata": {},
     "output_type": "execute_result"
    }
   ],
   "source": [
    "weather_graph = StateGraph(MessagesState)\n",
    "weather_graph.add_node(\"llmwithtool\", call_model_with_tools)\n",
    "weather_graph.add_node(\"tools\", tool_node)\n",
    "weather_graph.add_edge(START, \"llmwithtool\")\n",
    "\n",
    "weather_graph.add_conditional_edges(\"llmwithtool\", router_function, {\"tools\": \"tools\", END: END})"
   ]
  },
  {
   "cell_type": "code",
   "execution_count": 128,
   "id": "db1718f1",
   "metadata": {},
   "outputs": [],
   "source": [
    "weather_flow = weather_graph.compile()"
   ]
  },
  {
   "cell_type": "code",
   "execution_count": 129,
   "id": "2197fb51",
   "metadata": {},
   "outputs": [
    {
     "data": {
      "text/plain": [
       "{'messages': [HumanMessage(content='What is the weather in Mumbai?', additional_kwargs={}, response_metadata={}, id='064f47ac-a529-41e4-9a23-5a2d6b0938b3'),\n",
       "  AIMessage(content='', additional_kwargs={'tool_calls': [{'id': 'sjtbrj1kx', 'function': {'arguments': '{\"query\":\"Mumbai\"}', 'name': 'search'}, 'type': 'function'}]}, response_metadata={'token_usage': {'completion_tokens': 85, 'prompt_tokens': 128, 'total_tokens': 213, 'completion_time': 0.378862451, 'prompt_time': 0.008205925, 'queue_time': 0.057122639, 'total_time': 0.387068376}, 'model_name': 'deepseek-r1-distill-llama-70b', 'system_fingerprint': 'fp_1bbe7845ec', 'finish_reason': 'tool_calls', 'logprobs': None}, id='run--8f3bf074-7c77-4cf1-b53b-38863c0c3475-0', tool_calls=[{'name': 'search', 'args': {'query': 'Mumbai'}, 'id': 'sjtbrj1kx', 'type': 'tool_call'}], usage_metadata={'input_tokens': 128, 'output_tokens': 85, 'total_tokens': 213}),\n",
       "  ToolMessage(content=\"I don't know the weather in that city.\", name='search', id='6ef0ded7-c781-4808-838b-6bf99901ea51', tool_call_id='sjtbrj1kx')]}"
      ]
     },
     "execution_count": 129,
     "metadata": {},
     "output_type": "execute_result"
    }
   ],
   "source": [
    "weather_flow.invoke({\"messages\": [\"What is the weather in Mumbai?\"]})"
   ]
  },
  {
   "cell_type": "code",
   "execution_count": 130,
   "id": "e075a4f1",
   "metadata": {},
   "outputs": [
    {
     "data": {
      "text/plain": [
       "{'messages': [HumanMessage(content='What is the weather in Delhi?', additional_kwargs={}, response_metadata={}, id='1c85fe61-0825-4ca1-bc49-0943c55c0447'),\n",
       "  AIMessage(content='', additional_kwargs={'tool_calls': [{'id': 'b43d2y04h', 'function': {'arguments': '{\"query\":\"Delhi\"}', 'name': 'search'}, 'type': 'function'}]}, response_metadata={'token_usage': {'completion_tokens': 190, 'prompt_tokens': 128, 'total_tokens': 318, 'completion_time': 0.766702768, 'prompt_time': 0.008212915, 'queue_time': 0.208579015, 'total_time': 0.774915683}, 'model_name': 'deepseek-r1-distill-llama-70b', 'system_fingerprint': 'fp_1bbe7845ec', 'finish_reason': 'tool_calls', 'logprobs': None}, id='run--9ce66bdc-88e9-42c0-9cb9-be03f112ca41-0', tool_calls=[{'name': 'search', 'args': {'query': 'Delhi'}, 'id': 'b43d2y04h', 'type': 'tool_call'}], usage_metadata={'input_tokens': 128, 'output_tokens': 190, 'total_tokens': 318}),\n",
       "  ToolMessage(content='the temperature in Delhi is 45 degrees Celsius and sun is shining.', name='search', id='0197727f-b963-4890-afbd-bc9c87c26920', tool_call_id='b43d2y04h')]}"
      ]
     },
     "execution_count": 130,
     "metadata": {},
     "output_type": "execute_result"
    }
   ],
   "source": [
    "weather_flow.invoke({\"messages\": [\"What is the weather in Delhi?\"]})"
   ]
  },
  {
   "cell_type": "code",
   "execution_count": 131,
   "id": "94ecc998",
   "metadata": {},
   "outputs": [
    {
     "data": {
      "text/plain": [
       "{'messages': [HumanMessage(content=\"What's the latst new in Agentic AI?\", additional_kwargs={}, response_metadata={}, id='7c3da9d8-16e3-429d-9c0e-87f02c1adc21'),\n",
       "  AIMessage(content=\"Agentic AI has recently announced the release of its advanced language model, which now includes enhanced capabilities for natural language understanding and generation. This update improves the model's ability to handle complex queries and generate more coherent responses. Additionally, Agentic AI has entered into a strategic partnership with a leading tech firm to integrate its AI solutions into various industry applications, further expanding its reach in the market. The company has also published a new research paper detailing breakthroughs in AI efficiency and scalability, showcasing their commitment to innovation. For the most current information, I recommend checking their official announcements or recent news articles on tech platforms.\", additional_kwargs={}, response_metadata={'token_usage': {'completion_tokens': 418, 'prompt_tokens': 132, 'total_tokens': 550, 'completion_time': 1.948756184, 'prompt_time': 0.008469271, 'queue_time': 0.052709213, 'total_time': 1.9572254550000001}, 'model_name': 'deepseek-r1-distill-llama-70b', 'system_fingerprint': 'fp_1bbe7845ec', 'finish_reason': 'stop', 'logprobs': None}, id='run--ac258cfe-2a5e-45d4-8bb4-de223cd0e3e3-0', usage_metadata={'input_tokens': 132, 'output_tokens': 418, 'total_tokens': 550})]}"
      ]
     },
     "execution_count": 131,
     "metadata": {},
     "output_type": "execute_result"
    }
   ],
   "source": [
    "weather_flow.invoke({\"messages\": [\"What's the latst new in Agentic AI?\"]})"
   ]
  },
  {
   "cell_type": "code",
   "execution_count": null,
   "id": "873e05f8",
   "metadata": {},
   "outputs": [],
   "source": []
  }
 ],
 "metadata": {
  "kernelspec": {
   "display_name": "Python 3",
   "language": "python",
   "name": "python3"
  },
  "language_info": {
   "codemirror_mode": {
    "name": "ipython",
    "version": 3
   },
   "file_extension": ".py",
   "mimetype": "text/x-python",
   "name": "python",
   "nbconvert_exporter": "python",
   "pygments_lexer": "ipython3",
   "version": "3.13.2"
  }
 },
 "nbformat": 4,
 "nbformat_minor": 5
}
