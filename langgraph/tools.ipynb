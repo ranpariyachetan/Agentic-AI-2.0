{
 "cells": [
  {
   "cell_type": "code",
   "execution_count": null,
   "id": "7e8809ee",
   "metadata": {},
   "outputs": [],
   "source": [
    "from langchain_community.tools import WikipediaQueryRun"
   ]
  },
  {
   "cell_type": "code",
   "execution_count": null,
   "id": "a3d34e12",
   "metadata": {},
   "outputs": [],
   "source": [
    "from langchain_community.utilities import WikipediaAPIWrapper"
   ]
  },
  {
   "cell_type": "code",
   "execution_count": null,
   "id": "0bd8e9e4",
   "metadata": {},
   "outputs": [],
   "source": [
    "api_wrapper = WikipediaAPIWrapper(top_k_results=5, doc_content_chars_max=500)\n",
    "wiki_tool = WikipediaQueryRun(api_wrapper=api_wrapper)"
   ]
  },
  {
   "cell_type": "code",
   "execution_count": null,
   "id": "c6448b16",
   "metadata": {},
   "outputs": [],
   "source": [
    "wiki_tool.name"
   ]
  },
  {
   "cell_type": "code",
   "execution_count": null,
   "id": "705b9713",
   "metadata": {},
   "outputs": [],
   "source": [
    "wiki_tool.description"
   ]
  },
  {
   "cell_type": "code",
   "execution_count": null,
   "id": "ddfca2b2",
   "metadata": {},
   "outputs": [],
   "source": [
    "wiki_tool.args"
   ]
  },
  {
   "cell_type": "code",
   "execution_count": null,
   "id": "6b931fa3",
   "metadata": {},
   "outputs": [],
   "source": [
    "wiki_tool.run(\"What is LangChain?\")"
   ]
  },
  {
   "cell_type": "code",
   "execution_count": null,
   "id": "940a88c3",
   "metadata": {},
   "outputs": [],
   "source": [
    "from langchain_community.tools import YouTubeSearchTool"
   ]
  },
  {
   "cell_type": "code",
   "execution_count": null,
   "id": "2c5721f5",
   "metadata": {},
   "outputs": [],
   "source": [
    "yt_tool = YouTubeSearchTool()"
   ]
  },
  {
   "cell_type": "code",
   "execution_count": null,
   "id": "0b173254",
   "metadata": {},
   "outputs": [],
   "source": [
    "yt_tool.description"
   ]
  },
  {
   "cell_type": "code",
   "execution_count": null,
   "id": "4ef7a43f",
   "metadata": {},
   "outputs": [],
   "source": [
    "yt_tool.run(\"David Beckham\")"
   ]
  },
  {
   "cell_type": "code",
   "execution_count": null,
   "id": "974987ba",
   "metadata": {},
   "outputs": [],
   "source": [
    "yt_tool.run(\"Krish Naik\")"
   ]
  },
  {
   "cell_type": "code",
   "execution_count": null,
   "id": "970d86e1",
   "metadata": {},
   "outputs": [],
   "source": [
    "from langchain_community.tools.tavily_search import TavilySearchResults\n",
    "from dotenv import load_dotenv"
   ]
  },
  {
   "cell_type": "code",
   "execution_count": null,
   "id": "bf401573",
   "metadata": {},
   "outputs": [],
   "source": [
    "load_dotenv()\n",
    "\n",
    "tavily_tool = TavilySearchResults()"
   ]
  },
  {
   "cell_type": "code",
   "execution_count": null,
   "id": "15fe17cb",
   "metadata": {},
   "outputs": [],
   "source": [
    "tavily_tool.run( \"How RCB has performed over the years in IPL?\")"
   ]
  },
  {
   "cell_type": "code",
   "execution_count": null,
   "id": "668ec60a",
   "metadata": {},
   "outputs": [],
   "source": []
  }
 ],
 "metadata": {
  "kernelspec": {
   "display_name": "Python 3",
   "language": "python",
   "name": "python3"
  },
  "language_info": {
   "codemirror_mode": {
    "name": "ipython",
    "version": 3
   },
   "file_extension": ".py",
   "mimetype": "text/x-python",
   "name": "python",
   "nbconvert_exporter": "python",
   "pygments_lexer": "ipython3",
   "version": "3.13.2"
  }
 },
 "nbformat": 4,
 "nbformat_minor": 5
}
