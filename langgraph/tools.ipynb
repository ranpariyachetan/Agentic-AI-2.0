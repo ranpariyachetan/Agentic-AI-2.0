{
 "cells": [
  {
   "cell_type": "code",
   "execution_count": 26,
   "id": "7e8809ee",
   "metadata": {},
   "outputs": [],
   "source": [
    "from langchain_community.tools import WikipediaQueryRun"
   ]
  },
  {
   "cell_type": "code",
   "execution_count": 27,
   "id": "a3d34e12",
   "metadata": {},
   "outputs": [],
   "source": [
    "from langchain_community.utilities import WikipediaAPIWrapper"
   ]
  },
  {
   "cell_type": "code",
   "execution_count": 28,
   "id": "0bd8e9e4",
   "metadata": {},
   "outputs": [],
   "source": [
    "api_wrapper = WikipediaAPIWrapper(top_k_results=5, doc_content_chars_max=500)\n",
    "wiki_tool = WikipediaQueryRun(api_wrapper=api_wrapper)"
   ]
  },
  {
   "cell_type": "code",
   "execution_count": 29,
   "id": "c6448b16",
   "metadata": {},
   "outputs": [
    {
     "data": {
      "text/plain": [
       "'wikipedia'"
      ]
     },
     "execution_count": 29,
     "metadata": {},
     "output_type": "execute_result"
    }
   ],
   "source": [
    "wiki_tool.name"
   ]
  },
  {
   "cell_type": "code",
   "execution_count": 30,
   "id": "705b9713",
   "metadata": {},
   "outputs": [
    {
     "data": {
      "text/plain": [
       "'A wrapper around Wikipedia. Useful for when you need to answer general questions about people, places, companies, facts, historical events, or other subjects. Input should be a search query.'"
      ]
     },
     "execution_count": 30,
     "metadata": {},
     "output_type": "execute_result"
    }
   ],
   "source": [
    "wiki_tool.description"
   ]
  },
  {
   "cell_type": "code",
   "execution_count": 31,
   "id": "ddfca2b2",
   "metadata": {},
   "outputs": [
    {
     "data": {
      "text/plain": [
       "{'query': {'description': 'query to look up on wikipedia',\n",
       "  'title': 'Query',\n",
       "  'type': 'string'}}"
      ]
     },
     "execution_count": 31,
     "metadata": {},
     "output_type": "execute_result"
    }
   ],
   "source": [
    "wiki_tool.args"
   ]
  },
  {
   "cell_type": "code",
   "execution_count": 32,
   "id": "6b931fa3",
   "metadata": {},
   "outputs": [
    {
     "data": {
      "text/plain": [
       "'Page: Milvus (vector database)\\nSummary: Milvus is a distributed vector database developed by Zilliz. It is available as both open-source software and a cloud service.\\nMilvus is an open-source project under LF AI & Data Foundation distributed under the Apache License 2.0.\\n\\n\\n\\nPage: Markov chain\\nSummary: In probability theory and statistics, a Markov chain or Markov process is a stochastic process describing a sequence of possible events in which the probability of each event depends only on the st'"
      ]
     },
     "execution_count": 32,
     "metadata": {},
     "output_type": "execute_result"
    }
   ],
   "source": [
    "wiki_tool.run(\"What is LangChain?\")"
   ]
  },
  {
   "cell_type": "code",
   "execution_count": 33,
   "id": "940a88c3",
   "metadata": {},
   "outputs": [],
   "source": [
    "from langchain_community.tools import YouTubeSearchTool"
   ]
  },
  {
   "cell_type": "code",
   "execution_count": 34,
   "id": "2c5721f5",
   "metadata": {},
   "outputs": [],
   "source": [
    "yt_tool = YouTubeSearchTool()"
   ]
  },
  {
   "cell_type": "code",
   "execution_count": 35,
   "id": "0b173254",
   "metadata": {},
   "outputs": [
    {
     "data": {
      "text/plain": [
       "'search for youtube videos associated with a person. the input to this tool should be a comma separated list, the first part contains a person name and the second a number that is the maximum number of video results to return aka num_results. the second part is optional'"
      ]
     },
     "execution_count": 35,
     "metadata": {},
     "output_type": "execute_result"
    }
   ],
   "source": [
    "yt_tool.description"
   ]
  },
  {
   "cell_type": "code",
   "execution_count": 36,
   "id": "4ef7a43f",
   "metadata": {},
   "outputs": [
    {
     "data": {
      "text/plain": [
       "\"['https://www.youtube.com/watch?v=conljkELUOI&pp=ygUNRGF2aWQgQmVja2hhbQ%3D%3D', 'https://www.youtube.com/watch?v=_e0baB28VfA&pp=ygUNRGF2aWQgQmVja2hhbQ%3D%3D']\""
      ]
     },
     "execution_count": 36,
     "metadata": {},
     "output_type": "execute_result"
    }
   ],
   "source": [
    "yt_tool.run(\"David Beckham\")"
   ]
  },
  {
   "cell_type": "code",
   "execution_count": 37,
   "id": "974987ba",
   "metadata": {},
   "outputs": [
    {
     "data": {
      "text/plain": [
       "\"['https://www.youtube.com/watch?v=JxgmHe2NyeY&pp=ygUKS3Jpc2ggTmFpa9IHCQmyCQGHKiGM7w%3D%3D', 'https://www.youtube.com/watch?v=ANvbjLCTqls&pp=ygUKS3Jpc2ggTmFpaw%3D%3D']\""
      ]
     },
     "execution_count": 37,
     "metadata": {},
     "output_type": "execute_result"
    }
   ],
   "source": [
    "yt_tool.run(\"Krish Naik\")"
   ]
  },
  {
   "cell_type": "code",
   "execution_count": 38,
   "id": "970d86e1",
   "metadata": {},
   "outputs": [],
   "source": [
    "from langchain_community.tools.tavily_search import TavilySearchResults\n",
    "from dotenv import load_dotenv"
   ]
  },
  {
   "cell_type": "code",
   "execution_count": 39,
   "id": "bf401573",
   "metadata": {},
   "outputs": [],
   "source": [
    "load_dotenv()\n",
    "\n",
    "tavily_tool = TavilySearchResults()"
   ]
  },
  {
   "cell_type": "code",
   "execution_count": 40,
   "id": "15fe17cb",
   "metadata": {},
   "outputs": [
    {
     "data": {
      "text/plain": [
       "[{'title': 'Royal Challengers Bengaluru IPL Team - RCB - Hindustan Times',\n",
       "  'url': 'https://www.hindustantimes.com/cricket/teams/royal-challengers-bengaluru-1105/ipl/yearwise-performance-6-14',\n",
       "  'content': '| Year | PLD | W | L | T | W % |\\n| --- | --- | --- | --- | --- | --- |\\n| 2008 | 14 | 4 | 10 | 0 | 28.57% |\\n| 2009 | 16 | 9 | 7 | 0 | 56.25% |\\n| 2010 | 16 | 8 | 8 | 0 | 50% |\\n| 2011 | 16 | 10 | 6 | 0 | 62.5% |\\n| 2012 | 16 | 8 | 7 | 0 | 50% |\\n| 2013 | 16 | 8 | 6 | 2 | 50% |\\n| 2014 | 14 | 5 | 9 | 0 | 35.71% |\\n| 2015 | 16 | 8 | 6 | 0 | 50% |\\n| 2016 | 16 | 9 | 7 | 0 | 56.25% |\\n| 2017 | 13 | 3 | 10 | 0 | 23.08% |\\n| 2018 | 14 | 6 | 8 | 0 | 42.86% |\\n| 2019 | 14 | 5 | 8 | 0 | 35.71% | [...] Bengaluru’s journey has been as unpredictable as it has been eventful. The franchise held the record for both the highest and lowest totals in IPL history - 263/5 and 49, respectively - until 2021, a testament to their mercurial nature. [...] | 2020 | 15 | 6 | 8 | 1 | 40% |\\n| 2021 | 15 | 9 | 6 | 0 | 60% |\\n| 2022 | 16 | 9 | 7 | 0 | 56.25% |\\n| 2023 | 14 | 7 | 7 | 0 | 50% |\\n| 2024 | 15 | 7 | 8 | 0 | 46.67% |\\n| 2025 | 15 | 11 | 4 | 0 | 73.33% |',\n",
       "  'score': 0.81025416},\n",
       " {'title': 'How Royal Challengers Bengaluru (RCB) performed in their last ...',\n",
       "  'url': 'https://www.moneycontrol.com/sports/cricket/ipl/how-royal-challengers-bengaluru-rcb-performed-in-their-last-three-ipl-finals-article-13091743.html',\n",
       "  'content': \"RCB have been perfect this season under Rajat Patidar, its new captain. From Patidar's leadership skills to RCB's ability to play as a team when it counted most, the Bengaluru-based team has so far dominated every aspect of IPL 2025.\\n\\nStory continues below Advertisement\\n\\n[Remove Ad](https://www.moneycontrol.com/promos/pro.php) [...] RCB finished second in the IPL 2025 points standings with nine victories from 14 league stage games. They earned their fourth final berth after defeating Punjab Kings by eight wickets in Qualifier 1. After defeating the Mumbai Indians in Qualifier 2, Punjab Kings advanced to the final. [...] With skipper Virat Kohli leading the way with four hundreds, RCB was in dominant form in 2016, much as in the 2025 edition. With Chris Gayle and Kohli leading the way with fifties, RCB was well on their way to winning their first championship as they chased Sunrisers Hyderabad's 208/7. However, RCB collapsed dramatically, managing 200/7 in 20 overs.\",\n",
       "  'score': 0.8058924},\n",
       " {'title': 'RCB Performance Over the Years in IPL: In-Depth Analysis',\n",
       "  'url': 'https://www.iviratkohli.com/rcb-performance-in-ipl/',\n",
       "  'content': 'The team has the record for the highest total ever- 263 and the lowest- 49. In 2008, the team had a forgettable start, finishing seventh,',\n",
       "  'score': 0.75852895},\n",
       " {'title': \"RCB's IPL records at Narendra Modi Stadium: How have Bengaluru ...\",\n",
       "  'url': 'https://www.livemint.com/sports/cricket-news/rcbs-ipl-records-at-narendra-modi-stadium-how-have-bengaluru-performed-in-ahmedabad-complete-details-11748838286873.html',\n",
       "  'content': \"However, the Bengaluru-based franchise had a mixed bag at the world's largest cricket stadium, with a 3-3 win-loss record in six matches in the last 10 years. RCB first played at the Narendra Modi Stadium in 2015 before returning again at the venue six years later. [...] ## RCB have played three IPL finals before, losing on all three occasions in 2009, 2011 and 2016. The Bengaluru-based franchise hopes to be fourth time lucky on Tuesday in the IPL 2025.\\n\\n![Royal Challengers Bengaluru will aim for a maiden IPL title in Ahmedabad on June 3.](https://www.livemint.com/lm-img/img/2025/06/02/600x338/RCB_Ipl_2025_1748839148139_1748839148429.jpg) [...] ## RCB's IPL statistics at Narendra Modi Stadium\\n\\n| Opposition | Result | Year |\\n| --- | --- | --- |\\n| Rajasthan Royals | Won | 2015 |\\n| Delhi Capitals | Won | 2021 |\\n| Punjab Kings | Lost | 2021 |\\n| Rajasthan Royals | Lost | 2022 |\\n| Gujarat Titans | Won | 2024 |\\n| Rajasthan Royals | Lost | 2024 |\",\n",
       "  'score': 0.72254705},\n",
       " {'title': 'List of Royal Challengers Bengaluru records - Wikipedia',\n",
       "  'url': 'https://en.wikipedia.org/wiki/List_of_Royal_Challengers_Bengaluru_records',\n",
       "  'content': '| Total | **256** | **121** | **128** | **4** | **2** | **1** | **47.26** | _3 times Runners-Up_ |\\n| Last Updated: 22 May 2024[\\\\[3\\\\]](https://en.wikipedia.org/wiki/List_of_Royal_Challengers_Bengaluru_records#cite_note-3) |',\n",
       "  'score': 0.70287734}]"
      ]
     },
     "execution_count": 40,
     "metadata": {},
     "output_type": "execute_result"
    }
   ],
   "source": [
    "tavily_tool.run( \"How RCB has performed over the years in IPL?\")"
   ]
  },
  {
   "cell_type": "markdown",
   "id": "ac610756",
   "metadata": {},
   "source": [
    "# Custom Tool"
   ]
  },
  {
   "cell_type": "code",
   "execution_count": 55,
   "id": "668ec60a",
   "metadata": {},
   "outputs": [],
   "source": [
    "def multiply(x: int, y: int) -> int:\n",
    "    \"\"\"Multiply two numbers.\"\"\"\n",
    "    return x * y"
   ]
  },
  {
   "cell_type": "code",
   "execution_count": 56,
   "id": "f63ea1d6",
   "metadata": {},
   "outputs": [
    {
     "data": {
      "text/plain": [
       "6"
      ]
     },
     "execution_count": 56,
     "metadata": {},
     "output_type": "execute_result"
    }
   ],
   "source": [
    "multiply(2, 3)"
   ]
  },
  {
   "cell_type": "code",
   "execution_count": 57,
   "id": "4e7e67f3",
   "metadata": {},
   "outputs": [
    {
     "ename": "AttributeError",
     "evalue": "'function' object has no attribute 'run'",
     "output_type": "error",
     "traceback": [
      "\u001b[31m---------------------------------------------------------------------------\u001b[39m",
      "\u001b[31mAttributeError\u001b[39m                            Traceback (most recent call last)",
      "\u001b[36mCell\u001b[39m\u001b[36m \u001b[39m\u001b[32mIn[57]\u001b[39m\u001b[32m, line 1\u001b[39m\n\u001b[32m----> \u001b[39m\u001b[32m1\u001b[39m \u001b[43mmultiply\u001b[49m\u001b[43m.\u001b[49m\u001b[43mrun\u001b[49m(\u001b[32m2\u001b[39m,\u001b[32m3\u001b[39m)\n",
      "\u001b[31mAttributeError\u001b[39m: 'function' object has no attribute 'run'"
     ]
    }
   ],
   "source": [
    "multiply.run(2,3)"
   ]
  },
  {
   "cell_type": "code",
   "execution_count": 58,
   "id": "a78424d2",
   "metadata": {},
   "outputs": [],
   "source": [
    "from langchain.agents import tool\n",
    "@tool\n",
    "def multiply_tool(x: int, y: int) -> int:\n",
    "    \"\"\"Multiply two numbers.\"\"\"\n",
    "    return x * y"
   ]
  },
  {
   "cell_type": "code",
   "execution_count": 59,
   "id": "ca4e3eb3",
   "metadata": {},
   "outputs": [
    {
     "data": {
      "text/plain": [
       "6"
      ]
     },
     "execution_count": 59,
     "metadata": {},
     "output_type": "execute_result"
    }
   ],
   "source": [
    "multiply_tool.invoke({\"x\": 2,\"y\": 3})"
   ]
  },
  {
   "cell_type": "code",
   "execution_count": 60,
   "id": "c1593de7",
   "metadata": {},
   "outputs": [
    {
     "data": {
      "text/plain": [
       "'multiply_tool'"
      ]
     },
     "execution_count": 60,
     "metadata": {},
     "output_type": "execute_result"
    }
   ],
   "source": [
    "multiply_tool.name"
   ]
  },
  {
   "cell_type": "code",
   "execution_count": 61,
   "id": "083f0ecc",
   "metadata": {},
   "outputs": [
    {
     "data": {
      "text/plain": [
       "'Multiply two numbers.'"
      ]
     },
     "execution_count": 61,
     "metadata": {},
     "output_type": "execute_result"
    }
   ],
   "source": [
    "multiply_tool.description"
   ]
  },
  {
   "cell_type": "code",
   "execution_count": 62,
   "id": "04c196ed",
   "metadata": {},
   "outputs": [
    {
     "data": {
      "text/plain": [
       "{'x': {'title': 'X', 'type': 'integer'},\n",
       " 'y': {'title': 'Y', 'type': 'integer'}}"
      ]
     },
     "execution_count": 62,
     "metadata": {},
     "output_type": "execute_result"
    }
   ],
   "source": [
    "multiply_tool.args"
   ]
  },
  {
   "cell_type": "code",
   "execution_count": 64,
   "id": "8361c987",
   "metadata": {},
   "outputs": [],
   "source": [
    "def get_word_length(word: str) -> int:\n",
    "    \"\"\"Get the length of a word.\"\"\"\n",
    "    return len(word)"
   ]
  },
  {
   "cell_type": "code",
   "execution_count": 65,
   "id": "2a669ce8",
   "metadata": {},
   "outputs": [
    {
     "data": {
      "text/plain": [
       "9"
      ]
     },
     "execution_count": 65,
     "metadata": {},
     "output_type": "execute_result"
    }
   ],
   "source": [
    "get_word_length(\"LangChain\")"
   ]
  },
  {
   "cell_type": "code",
   "execution_count": 71,
   "id": "9903ec06",
   "metadata": {},
   "outputs": [],
   "source": [
    "@tool\n",
    "def get_word_length_tool(word: str) -> int:\n",
    "    \"\"\"Get the length of a word.\"\"\"\n",
    "    return len(word)"
   ]
  },
  {
   "cell_type": "code",
   "execution_count": 72,
   "id": "77c2db3a",
   "metadata": {},
   "outputs": [
    {
     "data": {
      "text/plain": [
       "9"
      ]
     },
     "execution_count": 72,
     "metadata": {},
     "output_type": "execute_result"
    }
   ],
   "source": [
    "get_word_length_tool(\"LangChain\")"
   ]
  },
  {
   "cell_type": "code",
   "execution_count": 73,
   "id": "8cd04622",
   "metadata": {},
   "outputs": [
    {
     "data": {
      "text/plain": [
       "'get_word_length_tool'"
      ]
     },
     "execution_count": 73,
     "metadata": {},
     "output_type": "execute_result"
    }
   ],
   "source": [
    "get_word_length_tool.name"
   ]
  },
  {
   "cell_type": "code",
   "execution_count": 74,
   "id": "9c4319c6",
   "metadata": {},
   "outputs": [
    {
     "data": {
      "text/plain": [
       "'Get the length of a word.'"
      ]
     },
     "execution_count": 74,
     "metadata": {},
     "output_type": "execute_result"
    }
   ],
   "source": [
    "get_word_length_tool.description"
   ]
  },
  {
   "cell_type": "code",
   "execution_count": 75,
   "id": "b3da0a45",
   "metadata": {},
   "outputs": [
    {
     "data": {
      "text/plain": [
       "{'word': {'title': 'Word', 'type': 'string'}}"
      ]
     },
     "execution_count": 75,
     "metadata": {},
     "output_type": "execute_result"
    }
   ],
   "source": [
    "get_word_length_tool.args"
   ]
  },
  {
   "cell_type": "code",
   "execution_count": 76,
   "id": "54d45773",
   "metadata": {},
   "outputs": [
    {
     "data": {
      "text/plain": [
       "9"
      ]
     },
     "execution_count": 76,
     "metadata": {},
     "output_type": "execute_result"
    }
   ],
   "source": [
    "get_word_length_tool.invoke({\"word\": \"LangChain\"})"
   ]
  },
  {
   "cell_type": "code",
   "execution_count": 77,
   "id": "b1b571f9",
   "metadata": {},
   "outputs": [
    {
     "data": {
      "text/plain": [
       "9"
      ]
     },
     "execution_count": 77,
     "metadata": {},
     "output_type": "execute_result"
    }
   ],
   "source": [
    "get_word_length_tool.invoke(\"LangChain\")"
   ]
  },
  {
   "cell_type": "code",
   "execution_count": null,
   "id": "51560dc7",
   "metadata": {},
   "outputs": [],
   "source": []
  }
 ],
 "metadata": {
  "kernelspec": {
   "display_name": "Python 3",
   "language": "python",
   "name": "python3"
  },
  "language_info": {
   "codemirror_mode": {
    "name": "ipython",
    "version": 3
   },
   "file_extension": ".py",
   "mimetype": "text/x-python",
   "name": "python",
   "nbconvert_exporter": "python",
   "pygments_lexer": "ipython3",
   "version": "3.13.2"
  }
 },
 "nbformat": 4,
 "nbformat_minor": 5
}
